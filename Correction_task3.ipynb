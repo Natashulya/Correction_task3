{
 "cells": [
  {
   "cell_type": "code",
   "execution_count": 1,
   "id": "29b2e372",
   "metadata": {},
   "outputs": [],
   "source": [
    "documents = [\n",
    "    {'type': 'passport', 'number': '2207 876234', 'name': 'Василий Гупкин'},\n",
    "    {'type': 'invoice', 'number': '11-2', 'name': 'Геннадий Покемонов'},\n",
    "    {'type': 'insurance', 'number': '10006', 'name': 'Аристарх Павлов'}\n",
    "]"
   ]
  },
  {
   "cell_type": "code",
   "execution_count": 2,
   "id": "4bf25e9c",
   "metadata": {},
   "outputs": [],
   "source": [
    "def p(document_number):\n",
    "    for x in documents:\n",
    "        if x['number'] == document_number:\n",
    "            return x['name']"
   ]
  },
  {
   "cell_type": "code",
   "execution_count": 3,
   "id": "897204a9",
   "metadata": {},
   "outputs": [],
   "source": [
    "def l():\n",
    "    for x in documents:\n",
    "        type = x['type']\n",
    "        number = x['number']\n",
    "        name = x['name']\n",
    "        print('{0}\"{1}\" \"{2}\"'.format(type, number, name))"
   ]
  },
  {
   "cell_type": "code",
   "execution_count": 7,
   "id": "79474961",
   "metadata": {},
   "outputs": [],
   "source": [
    "directories = {\n",
    "    '1': ['2207 876234', '11-2', '5455 028765'],\n",
    "    '2': ['10006', '5400 028765', '5455 002299'],\n",
    "    '3': []\n",
    "}"
   ]
  },
  {
   "cell_type": "code",
   "execution_count": 8,
   "id": "6e5b0de2",
   "metadata": {},
   "outputs": [
    {
     "name": "stdout",
     "output_type": "stream",
     "text": [
      "Введите номер документа: p\n",
      "document undefined\n"
     ]
    }
   ],
   "source": [
    "def s(document_number):\n",
    "    for k in directories:\n",
    "        if document_number in directories[k]:\n",
    "            return k\n",
    "    return \"document undefined\"\n",
    "\n",
    "document_number = input(\"Введите номер документа: \")\n",
    "print(s(document_number))"
   ]
  },
  {
   "cell_type": "code",
   "execution_count": 10,
   "id": "aa0ed776",
   "metadata": {},
   "outputs": [
    {
     "name": "stdout",
     "output_type": "stream",
     "text": [
      "None\n"
     ]
    }
   ],
   "source": [
    "documents = [\n",
    "    {'type': 'passport', 'number': '2207 876234', 'name': 'Василий Гупкин'},\n",
    "    {'type': 'invoice', 'number': '11-2', 'name': 'Геннадий Покемонов'},\n",
    "    {'type': 'insurance', 'number': '10006', 'name': 'Аристарх Павлов'}\n",
    "]\n",
    "\n",
    "def p(document_number):\n",
    "    for x in documents:\n",
    "        if x['number'] == document_number:\n",
    "            return x['name']\n",
    "\n",
    "        \n",
    "        \n",
    "        \n",
    "#l – list – команда, которая выведет список всех документов в формате\n",
    "#passport \"2207 876234\" \"Василий Гупкин\"        \n",
    "        \n",
    "def l():\n",
    "    for x in documents:\n",
    "        type = x['type']\n",
    "        number = x['number']\n",
    "        name = x['name']\n",
    "        print('{0}\"{1}\" \"{2}\"'.format(type, number, name))\n",
    "        document_number = input(\"Введите номер документа: \")\n",
    "print(p(document_number))\n",
    "\n",
    "\n",
    "\n",
    "\n",
    "#as – add shelf – команда, которая спросит номер новой полки и добавит ее в перечень\n",
    "\n",
    "def add_shelf():\n",
    "    number = input(\"Введите номер новой полки: \")\n",
    "    directories[number] = []"
   ]
  },
  {
   "cell_type": "code",
   "execution_count": 11,
   "id": "a298f3c3",
   "metadata": {},
   "outputs": [
    {
     "name": "stdout",
     "output_type": "stream",
     "text": [
      "Введите номер документа, который хотите удалить: 123\n",
      "Документ не существует\n",
      "[{'type': 'passport', 'number': '2207 876234', 'name': 'Василий Гупкин'}, {'type': 'invoice', 'number': '11-2', 'name': 'Геннадий Покемонов'}, {'type': 'insurance', 'number': '10006', 'name': 'Аристарх Павлов'}]\n",
      "{'1': ['2207 876234', '11-2', '5455 028765'], '2': ['10006', '5400 028765', '5455 002299'], '3': []}\n"
     ]
    }
   ],
   "source": [
    "#d – delete – команда, которая спросит номер документа и удалит его из каталога и из перечня полок; \n",
    "#сценарий ввода несуществующего документа\n",
    "\n",
    "directories = {\n",
    "    '1': ['2207 876234', '11-2', '5455 028765'],\n",
    "    '2': ['10006', '5400 028765', '5455 002299'],\n",
    "    '3': []\n",
    "}\n",
    "\n",
    "documents = [\n",
    "    {'type': 'passport', 'number': '2207 876234', 'name': 'Василий Гупкин'},\n",
    "    {'type': 'invoice', 'number': '11-2', 'name': 'Геннадий Покемонов'},\n",
    "    {'type': 'insurance', 'number': '10006', 'name': 'Аристарх Павлов'}\n",
    "]\n",
    "\n",
    "def d(doc_number):\n",
    "    initial_len = len(documents)\n",
    "    for i, d in enumerate(documents):\n",
    "        if d[\"number\"] == doc_number:\n",
    "            documents.pop(i)\n",
    "\n",
    "    if initial_len == len(documents):\n",
    "        return \"Документ не существует\"\n",
    "\n",
    "    for key, value in directories.items():\n",
    "        if doc_number in value:\n",
    "            value.remove(doc_number)\n",
    "\n",
    "    return \"Документ успешно удален\"\n",
    "\n",
    "doc_number = input(\"Введите номер документа, который хотите удалить: \")\n",
    "print(d(doc_number))\n",
    "print(documents)\n",
    "print(directories)"
   ]
  },
  {
   "cell_type": "code",
   "execution_count": 12,
   "id": "aa664675",
   "metadata": {},
   "outputs": [
    {
     "name": "stdout",
     "output_type": "stream",
     "text": [
      "Введите номер документа,который хоитите переместить: 456\n",
      "Введит номер полки, на которую хоиите перемести документ: 323\n",
      "Полки не существует\n",
      "{'1': ['2207 876234', '11-2', '5455 028765'], '2': ['10006', '5400 028765', '5455 002299'], '3': []}\n"
     ]
    }
   ],
   "source": [
    "#m – номер документа и целевая полка, перемещение с текущей полки на целевую; \n",
    "\n",
    "\n",
    "directories = {\n",
    "    '1': ['2207 876234', '11-2', '5455 028765'],\n",
    "    '2': ['10006', '5400 028765', '5455 002299'],\n",
    "    '3': []\n",
    "}\n",
    "\n",
    "documents = [\n",
    "    {'type': 'passport', 'number': '2207 876234', 'name': 'Василий Гупкин'},\n",
    "    {'type': 'invoice', 'number': '11-2', 'name': 'Геннадий Покемонов'},\n",
    "    {'type': 'insurance', 'number': '10006', 'name': 'Аристарх Павлов'}\n",
    "]\n",
    "\n",
    "def m(doc_number, shelf_id):\n",
    "    doc_existence = False\n",
    "\n",
    "    if shelf_id not in directories:\n",
    "        return \"Полки не существует\"\n",
    "  \n",
    "    for key, value in directories.items():\n",
    "        if doc_number in value:\n",
    "            doc_existence = True\n",
    "            directories[shelf_id] += [doc_number]\n",
    "            value.remove(doc_number)\n",
    "\n",
    "    if doc_existence:\n",
    "        return \"Документ успешно перемещен\"\n",
    "    else :\n",
    "        return \"Документ не существует\"\n",
    "\n",
    "\n",
    "doc_number = input(\"Введите номер документа,который хоитите переместить: \")\n",
    "shelf_id = input(\"Введит номер полки, на которую хоиите перемести документ: \")\n",
    "print(m(doc_number, shelf_id))\n",
    "print(directories)"
   ]
  },
  {
   "cell_type": "code",
   "execution_count": 13,
   "id": "d4962391",
   "metadata": {},
   "outputs": [
    {
     "data": {
      "text/plain": [
       "<function __main__.p(document_number)>"
      ]
     },
     "execution_count": 13,
     "metadata": {},
     "output_type": "execute_result"
    }
   ],
   "source": []
  },
  {
   "cell_type": "code",
   "execution_count": 14,
   "id": "bccbc631",
   "metadata": {},
   "outputs": [
    {
     "data": {
      "text/plain": [
       "<function __main__.s(document_number)>"
      ]
     },
     "execution_count": 14,
     "metadata": {},
     "output_type": "execute_result"
    }
   ],
   "source": [
    "s"
   ]
  },
  {
   "cell_type": "code",
   "execution_count": 15,
   "id": "81bc74d3",
   "metadata": {},
   "outputs": [
    {
     "data": {
      "text/plain": [
       "<function __main__.l()>"
      ]
     },
     "execution_count": 15,
     "metadata": {},
     "output_type": "execute_result"
    }
   ],
   "source": [
    "l"
   ]
  },
  {
   "cell_type": "code",
   "execution_count": 16,
   "id": "0282f1dc",
   "metadata": {},
   "outputs": [
    {
     "data": {
      "text/plain": [
       "<function __main__.d(doc_number)>"
      ]
     },
     "execution_count": 16,
     "metadata": {},
     "output_type": "execute_result"
    }
   ],
   "source": [
    "d"
   ]
  },
  {
   "cell_type": "code",
   "execution_count": 17,
   "id": "bcdc54dc",
   "metadata": {},
   "outputs": [
    {
     "data": {
      "text/plain": [
       "<function __main__.m(doc_number, shelf_id)>"
      ]
     },
     "execution_count": 17,
     "metadata": {},
     "output_type": "execute_result"
    }
   ],
   "source": [
    "m"
   ]
  },
  {
   "cell_type": "code",
   "execution_count": null,
   "id": "3ce07901",
   "metadata": {},
   "outputs": [],
   "source": []
  }
 ],
 "metadata": {
  "kernelspec": {
   "display_name": "Python 3",
   "language": "python",
   "name": "python3"
  },
  "language_info": {
   "codemirror_mode": {
    "name": "ipython",
    "version": 3
   },
   "file_extension": ".py",
   "mimetype": "text/x-python",
   "name": "python",
   "nbconvert_exporter": "python",
   "pygments_lexer": "ipython3",
   "version": "3.8.8"
  }
 },
 "nbformat": 4,
 "nbformat_minor": 5
}
